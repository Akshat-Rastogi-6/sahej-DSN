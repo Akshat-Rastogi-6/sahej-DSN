{
 "cells": [
  {
   "cell_type": "code",
   "execution_count": 1,
   "metadata": {},
   "outputs": [
    {
     "name": "stdout",
     "output_type": "stream",
     "text": [
      "{\n",
      "  \"message\":\"no Route matched with those values\"\n",
      "}\n"
     ]
    }
   ],
   "source": [
    "import requests\n",
    "\n",
    "url = \"https://api.tomorrow.io/v4?apikey=<api>\"\n",
    "\n",
    "response = requests.get(url)\n",
    "\n",
    "print(response.text)"
   ]
  },
  {
   "cell_type": "code",
   "execution_count": 2,
   "metadata": {},
   "outputs": [
    {
     "name": "stdout",
     "output_type": "stream",
     "text": [
      "Error: 401, {\"code\":401001,\"type\":\"Invalid Auth\",\"message\":\"The method requires authentication but it was not presented or is invalid.\"}\n"
     ]
    }
   ],
   "source": [
    "import requests\n",
    "\n",
    "api_key = 'api'\n",
    "base_url = \"https://api.tomorrow.io/v4/timelines\"\n",
    "location = {\"latitude\": 20.2961, \"longitude\": 85.8245}  # New York City example\n",
    "fields = [\"temperature\", \"precipitationIntensity\", \"rainIntensity\", \"precipitationProbability\"]  # You can include more fields\n",
    "\n",
    "params = {\n",
    "    \"apikey\": api_key,\n",
    "    \"location\": f\"{location['latitude']},{location['longitude']}\",\n",
    "    \"fields\": fields,\n",
    "    \"timesteps\": \"1h\",  # Can also use '1d', 'current', etc.\n",
    "    \"units\": \"metric\",  # Use \"imperial\" for Fahrenheit\n",
    "    \"startTime\": \"2024-12-01T00:00:00Z\",  # Adjust the date\n",
    "    \"endTime\": \"2024-12-02T00:00:00Z\"     # Adjust the date\n",
    "}\n",
    "\n",
    "response = requests.get(base_url, params=params)\n",
    "\n",
    "if response.status_code == 200:\n",
    "    weather_data = response.json()\n",
    "    print(weather_data)\n",
    "else:\n",
    "    print(f\"Error: {response.status_code}, {response.text}\")\n"
   ]
  },
  {
   "cell_type": "code",
   "execution_count": 3,
   "metadata": {},
   "outputs": [],
   "source": [
    "#  curl --request GET --url 'https://api.tomorrow.io/v4/weather/forecast?location=Bhubaneshwar&apikey=CjSqhFWM8OkJECQHrqnatyjED0MAe2Fl'"
   ]
  }
 ],
 "metadata": {
  "kernelspec": {
   "display_name": "Python 3",
   "language": "python",
   "name": "python3"
  },
  "language_info": {
   "codemirror_mode": {
    "name": "ipython",
    "version": 3
   },
   "file_extension": ".py",
   "mimetype": "text/x-python",
   "name": "python",
   "nbconvert_exporter": "python",
   "pygments_lexer": "ipython3",
   "version": "3.12.4"
  }
 },
 "nbformat": 4,
 "nbformat_minor": 2
}
