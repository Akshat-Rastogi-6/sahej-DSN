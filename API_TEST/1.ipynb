{
 "cells": [
  {
   "cell_type": "code",
   "execution_count": 1,
   "metadata": {},
   "outputs": [
    {
     "name": "stdout",
     "output_type": "stream",
     "text": [
      "{\"message\":\"no Route matched with those values\"}\n"
     ]
    }
   ],
   "source": [
    "import requests\n",
    "\n",
    "url = \"https://api.tomorrow.io/v4?apikey=CjSqhFWM8OkJECQHrqnatyjED0MAe2Fl\"\n",
    "\n",
    "response = requests.get(url)\n",
    "\n",
    "print(response.text)"
   ]
  },
  {
   "cell_type": "code",
   "execution_count": 4,
   "metadata": {},
   "outputs": [
    {
     "name": "stdout",
     "output_type": "stream",
     "text": [
      "{'data': {'timelines': [{'timestep': '1h', 'endTime': '2024-11-20T00:00:00Z', 'startTime': '2024-11-19T00:00:00Z', 'intervals': [{'startTime': '2024-11-19T00:00:00Z', 'values': {'precipitationIntensity': 0, 'precipitationProbability': 0, 'rainIntensity': 0, 'temperature': 17.69}}, {'startTime': '2024-11-19T01:00:00Z', 'values': {'precipitationIntensity': 0, 'precipitationProbability': 0, 'rainIntensity': 0, 'temperature': 17.81}}, {'startTime': '2024-11-19T02:00:00Z', 'values': {'precipitationIntensity': 0, 'precipitationProbability': 0, 'rainIntensity': 0, 'temperature': 17.69}}, {'startTime': '2024-11-19T03:00:00Z', 'values': {'precipitationIntensity': 0, 'precipitationProbability': 0, 'rainIntensity': 0, 'temperature': 19.31}}, {'startTime': '2024-11-19T04:00:00Z', 'values': {'precipitationIntensity': 0, 'precipitationProbability': 0, 'rainIntensity': 0, 'temperature': 22.31}}, {'startTime': '2024-11-19T05:00:00Z', 'values': {'precipitationIntensity': 0, 'precipitationProbability': 0, 'rainIntensity': 0, 'temperature': 25.19}}, {'startTime': '2024-11-19T06:00:00Z', 'values': {'precipitationIntensity': 0, 'precipitationProbability': 0, 'rainIntensity': 0, 'temperature': 30.31}}, {'startTime': '2024-11-19T07:00:00Z', 'values': {'precipitationIntensity': 0, 'precipitationProbability': 0, 'rainIntensity': 0, 'temperature': 27.5}}, {'startTime': '2024-11-19T08:00:00Z', 'values': {'precipitationIntensity': 0, 'precipitationProbability': 0, 'rainIntensity': 0, 'temperature': 28.91}}, {'startTime': '2024-11-19T09:00:00Z', 'values': {'precipitationIntensity': 0, 'precipitationProbability': 0, 'rainIntensity': 0, 'temperature': 28.63}}, {'startTime': '2024-11-19T10:00:00Z', 'values': {'precipitationIntensity': 0, 'precipitationProbability': 0, 'rainIntensity': 0, 'temperature': 27.92}}, {'startTime': '2024-11-19T11:00:00Z', 'values': {'precipitationIntensity': 0, 'precipitationProbability': 0, 'rainIntensity': 0, 'temperature': 26.2}}, {'startTime': '2024-11-19T12:00:00Z', 'values': {'precipitationIntensity': 0, 'precipitationProbability': 0, 'rainIntensity': 0, 'temperature': 24.74}}, {'startTime': '2024-11-19T13:00:00Z', 'values': {'precipitationIntensity': 0, 'precipitationProbability': 0, 'rainIntensity': 0, 'temperature': 24.03}}, {'startTime': '2024-11-19T14:00:00Z', 'values': {'precipitationIntensity': 0, 'precipitationProbability': 0, 'rainIntensity': 0, 'temperature': 22.64}}, {'startTime': '2024-11-19T15:00:00Z', 'values': {'precipitationIntensity': 0, 'precipitationProbability': 0, 'rainIntensity': 0, 'temperature': 21.73}}, {'startTime': '2024-11-19T16:00:00Z', 'values': {'precipitationIntensity': 0, 'precipitationProbability': 0, 'rainIntensity': 0, 'temperature': 21.39}}, {'startTime': '2024-11-19T17:00:00Z', 'values': {'precipitationIntensity': 0, 'precipitationProbability': 0, 'rainIntensity': 0, 'temperature': 20.15}}, {'startTime': '2024-11-19T18:00:00Z', 'values': {'precipitationIntensity': 0, 'precipitationProbability': 0, 'rainIntensity': 0, 'temperature': 19.47}}, {'startTime': '2024-11-19T19:00:00Z', 'values': {'precipitationIntensity': 0, 'precipitationProbability': 0, 'rainIntensity': 0, 'temperature': 19.2}}, {'startTime': '2024-11-19T20:00:00Z', 'values': {'precipitationIntensity': 0, 'precipitationProbability': 0, 'rainIntensity': 0, 'temperature': 18.55}}, {'startTime': '2024-11-19T21:00:00Z', 'values': {'precipitationIntensity': 0, 'precipitationProbability': 0, 'rainIntensity': 0, 'temperature': 17.92}}, {'startTime': '2024-11-19T22:00:00Z', 'values': {'precipitationIntensity': 0, 'precipitationProbability': 0, 'rainIntensity': 0, 'temperature': 17.59}}, {'startTime': '2024-11-19T23:00:00Z', 'values': {'precipitationIntensity': 0, 'precipitationProbability': 0, 'rainIntensity': 0, 'temperature': 17.57}}, {'startTime': '2024-11-20T00:00:00Z', 'values': {'precipitationIntensity': 0, 'precipitationProbability': 0, 'rainIntensity': 0, 'temperature': 17.2}}]}]}}\n"
     ]
    }
   ],
   "source": [
    "import requests\n",
    "\n",
    "api_key = 'CjSqhFWM8OkJECQHrqnatyjED0MAe2Fl'\n",
    "base_url = \"https://api.tomorrow.io/v4/timelines\"\n",
    "location = {\"latitude\": 20.2961, \"longitude\": 85.8245}  # New York City example\n",
    "fields = [\"temperature\", \"precipitationIntensity\", \"rainIntensity\", \"precipitationProbability\"]  # You can include more fields\n",
    "\n",
    "params = {\n",
    "    \"apikey\": api_key,\n",
    "    \"location\": f\"{location['latitude']},{location['longitude']}\",\n",
    "    \"fields\": fields,\n",
    "    \"timesteps\": \"1h\",  # Can also use '1d', 'current', etc.\n",
    "    \"units\": \"metric\",  # Use \"imperial\" for Fahrenheit\n",
    "    \"startTime\": \"2024-11-19T00:00:00Z\",  # Adjust the date\n",
    "    \"endTime\": \"2024-11-20T00:00:00Z\"     # Adjust the date\n",
    "}\n",
    "\n",
    "response = requests.get(base_url, params=params)\n",
    "\n",
    "if response.status_code == 200:\n",
    "    weather_data = response.json()\n",
    "    print(weather_data)\n",
    "else:\n",
    "    print(f\"Error: {response.status_code}, {response.text}\")\n"
   ]
  },
  {
   "cell_type": "code",
   "execution_count": null,
   "metadata": {},
   "outputs": [],
   "source": [
    "#  curl --request GET --url 'https://api.tomorrow.io/v4/weather/forecast?location=Bhubaneshwar&apikey=CjSqhFWM8OkJECQHrqnatyjED0MAe2Fl'"
   ]
  }
 ],
 "metadata": {
  "kernelspec": {
   "display_name": "Python 3",
   "language": "python",
   "name": "python3"
  },
  "language_info": {
   "codemirror_mode": {
    "name": "ipython",
    "version": 3
   },
   "file_extension": ".py",
   "mimetype": "text/x-python",
   "name": "python",
   "nbconvert_exporter": "python",
   "pygments_lexer": "ipython3",
   "version": "3.10.11"
  }
 },
 "nbformat": 4,
 "nbformat_minor": 2
}
